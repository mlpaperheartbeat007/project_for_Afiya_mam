{
 "cells": [
  {
   "cell_type": "code",
   "execution_count": 1,
   "metadata": {},
   "outputs": [
    {
     "name": "stderr",
     "output_type": "stream",
     "text": [
      "/root/anaconda2/lib/python2.7/site-packages/sklearn/cross_validation.py:41: DeprecationWarning: This module was deprecated in version 0.18 in favor of the model_selection module into which all the refactored classes and functions are moved. Also note that the interface of the new CV iterators are different from that of this module. This module will be removed in 0.20.\n",
      "  \"This module will be removed in 0.20.\", DeprecationWarning)\n"
     ]
    }
   ],
   "source": [
    "##first import the packages needed for the program\n",
    "\n",
    "import pandas as pd             #best packages for array calculation    \n",
    "import numpy as np              #numpy is a package for mathmatical calculation of dataframe\n",
    "from sklearn import preprocessing      #this package is for scaling and process data\n",
    "from sklearn import cross_validation   #training and testing data crossvalidation is \n",
    "                                       #basically applied for known data to find accuracy\n",
    "from sklearn import neighbors          #this is the KNN packages \n",
    "\n",
    "from sklearn.ensemble import GradientBoostingClassifier  ## gradient boosting packages\n",
    "                                                         #i use it from experience ;\n",
    "                                                         #some case it works very good\n",
    "from sklearn.ensemble import RandomForestClassifier      #random forest packages \n",
    "\n",
    "from sklearn import svm\n"
   ]
  },
  {
   "cell_type": "code",
   "execution_count": 2,
   "metadata": {},
   "outputs": [],
   "source": [
    "#first the dataframe will be created\n",
    "df=pd.read_csv('breast-cancer-wisconsin.csv')"
   ]
  },
  {
   "cell_type": "code",
   "execution_count": 3,
   "metadata": {},
   "outputs": [
    {
     "data": {
      "text/html": [
       "<div>\n",
       "<style scoped>\n",
       "    .dataframe tbody tr th:only-of-type {\n",
       "        vertical-align: middle;\n",
       "    }\n",
       "\n",
       "    .dataframe tbody tr th {\n",
       "        vertical-align: top;\n",
       "    }\n",
       "\n",
       "    .dataframe thead th {\n",
       "        text-align: right;\n",
       "    }\n",
       "</style>\n",
       "<table border=\"1\" class=\"dataframe\">\n",
       "  <thead>\n",
       "    <tr style=\"text-align: right;\">\n",
       "      <th></th>\n",
       "      <th>id</th>\n",
       "      <th>clump_thickness</th>\n",
       "      <th>unif_cell_size</th>\n",
       "      <th>unif_cell_shape</th>\n",
       "      <th>marg_adhesion</th>\n",
       "      <th>single_epith_cell_size</th>\n",
       "      <th>bare_nuclei</th>\n",
       "      <th>bland_chrom</th>\n",
       "      <th>norm_nucleoli</th>\n",
       "      <th>mitoses</th>\n",
       "      <th>class</th>\n",
       "    </tr>\n",
       "  </thead>\n",
       "  <tbody>\n",
       "    <tr>\n",
       "      <th>0</th>\n",
       "      <td>1000025</td>\n",
       "      <td>5</td>\n",
       "      <td>1</td>\n",
       "      <td>1</td>\n",
       "      <td>1</td>\n",
       "      <td>2</td>\n",
       "      <td>1</td>\n",
       "      <td>3</td>\n",
       "      <td>1</td>\n",
       "      <td>1</td>\n",
       "      <td>2</td>\n",
       "    </tr>\n",
       "    <tr>\n",
       "      <th>1</th>\n",
       "      <td>1002945</td>\n",
       "      <td>5</td>\n",
       "      <td>4</td>\n",
       "      <td>4</td>\n",
       "      <td>5</td>\n",
       "      <td>7</td>\n",
       "      <td>10</td>\n",
       "      <td>3</td>\n",
       "      <td>2</td>\n",
       "      <td>1</td>\n",
       "      <td>2</td>\n",
       "    </tr>\n",
       "    <tr>\n",
       "      <th>2</th>\n",
       "      <td>1015425</td>\n",
       "      <td>3</td>\n",
       "      <td>1</td>\n",
       "      <td>1</td>\n",
       "      <td>1</td>\n",
       "      <td>2</td>\n",
       "      <td>2</td>\n",
       "      <td>3</td>\n",
       "      <td>1</td>\n",
       "      <td>1</td>\n",
       "      <td>2</td>\n",
       "    </tr>\n",
       "    <tr>\n",
       "      <th>3</th>\n",
       "      <td>1016277</td>\n",
       "      <td>6</td>\n",
       "      <td>8</td>\n",
       "      <td>8</td>\n",
       "      <td>1</td>\n",
       "      <td>3</td>\n",
       "      <td>4</td>\n",
       "      <td>3</td>\n",
       "      <td>7</td>\n",
       "      <td>1</td>\n",
       "      <td>2</td>\n",
       "    </tr>\n",
       "    <tr>\n",
       "      <th>4</th>\n",
       "      <td>1017023</td>\n",
       "      <td>4</td>\n",
       "      <td>1</td>\n",
       "      <td>1</td>\n",
       "      <td>3</td>\n",
       "      <td>2</td>\n",
       "      <td>1</td>\n",
       "      <td>3</td>\n",
       "      <td>1</td>\n",
       "      <td>1</td>\n",
       "      <td>2</td>\n",
       "    </tr>\n",
       "  </tbody>\n",
       "</table>\n",
       "</div>"
      ],
      "text/plain": [
       "        id  clump_thickness  unif_cell_size  unif_cell_shape  marg_adhesion  \\\n",
       "0  1000025                5               1                1              1   \n",
       "1  1002945                5               4                4              5   \n",
       "2  1015425                3               1                1              1   \n",
       "3  1016277                6               8                8              1   \n",
       "4  1017023                4               1                1              3   \n",
       "\n",
       "   single_epith_cell_size bare_nuclei  bland_chrom  norm_nucleoli  mitoses  \\\n",
       "0                       2           1            3              1        1   \n",
       "1                       7          10            3              2        1   \n",
       "2                       2           2            3              1        1   \n",
       "3                       3           4            3              7        1   \n",
       "4                       2           1            3              1        1   \n",
       "\n",
       "   class  \n",
       "0      2  \n",
       "1      2  \n",
       "2      2  \n",
       "3      2  \n",
       "4      2  "
      ]
     },
     "execution_count": 3,
     "metadata": {},
     "output_type": "execute_result"
    }
   ],
   "source": [
    "##data frame is created we can see the peak of the datasets\n",
    "df.head()"
   ]
  },
  {
   "cell_type": "markdown",
   "metadata": {},
   "source": [
    "# Attribute Information:\n",
    "\n",
    "#### 1. Sample code number: id number\n",
    "#### 2. Clump Thickness: 1 - 10\n",
    "#### 3. Uniformity of Cell Size: 1 - 10\n",
    "#### 4. Uniformity of Cell Shape: 1 - 10\n",
    "#### 5. Marginal Adhesion: 1 - 10\n",
    "#### 6. Single Epithelial Cell Size: 1 - 10\n",
    "#### 7. Bare Nuclei: 1 - 10\n",
    "#### 8. Bland Chromatin: 1 - 10\n",
    "#### 9. Normal Nucleoli: 1 - 10\n",
    "#### 10. Mitoses: 1 - 10\n",
    "## 11. Class: (2 for benign, 4 for malignant)"
   ]
  },
  {
   "cell_type": "markdown",
   "metadata": {},
   "source": [
    "### we need to predict the benign(2) and malignant(4) stage by processing the rest of the data"
   ]
  },
  {
   "cell_type": "code",
   "execution_count": 4,
   "metadata": {},
   "outputs": [
    {
     "data": {
      "text/html": [
       "<div>\n",
       "<style scoped>\n",
       "    .dataframe tbody tr th:only-of-type {\n",
       "        vertical-align: middle;\n",
       "    }\n",
       "\n",
       "    .dataframe tbody tr th {\n",
       "        vertical-align: top;\n",
       "    }\n",
       "\n",
       "    .dataframe thead th {\n",
       "        text-align: right;\n",
       "    }\n",
       "</style>\n",
       "<table border=\"1\" class=\"dataframe\">\n",
       "  <thead>\n",
       "    <tr style=\"text-align: right;\">\n",
       "      <th></th>\n",
       "      <th>id</th>\n",
       "      <th>clump_thickness</th>\n",
       "      <th>unif_cell_size</th>\n",
       "      <th>unif_cell_shape</th>\n",
       "      <th>marg_adhesion</th>\n",
       "      <th>single_epith_cell_size</th>\n",
       "      <th>bare_nuclei</th>\n",
       "      <th>bland_chrom</th>\n",
       "      <th>norm_nucleoli</th>\n",
       "      <th>mitoses</th>\n",
       "      <th>class</th>\n",
       "    </tr>\n",
       "  </thead>\n",
       "  <tbody>\n",
       "    <tr>\n",
       "      <th>0</th>\n",
       "      <td>1000025</td>\n",
       "      <td>5</td>\n",
       "      <td>1</td>\n",
       "      <td>1</td>\n",
       "      <td>1</td>\n",
       "      <td>2</td>\n",
       "      <td>1</td>\n",
       "      <td>3</td>\n",
       "      <td>1</td>\n",
       "      <td>1</td>\n",
       "      <td>2</td>\n",
       "    </tr>\n",
       "    <tr>\n",
       "      <th>1</th>\n",
       "      <td>1002945</td>\n",
       "      <td>5</td>\n",
       "      <td>4</td>\n",
       "      <td>4</td>\n",
       "      <td>5</td>\n",
       "      <td>7</td>\n",
       "      <td>10</td>\n",
       "      <td>3</td>\n",
       "      <td>2</td>\n",
       "      <td>1</td>\n",
       "      <td>2</td>\n",
       "    </tr>\n",
       "    <tr>\n",
       "      <th>2</th>\n",
       "      <td>1015425</td>\n",
       "      <td>3</td>\n",
       "      <td>1</td>\n",
       "      <td>1</td>\n",
       "      <td>1</td>\n",
       "      <td>2</td>\n",
       "      <td>2</td>\n",
       "      <td>3</td>\n",
       "      <td>1</td>\n",
       "      <td>1</td>\n",
       "      <td>2</td>\n",
       "    </tr>\n",
       "    <tr>\n",
       "      <th>3</th>\n",
       "      <td>1016277</td>\n",
       "      <td>6</td>\n",
       "      <td>8</td>\n",
       "      <td>8</td>\n",
       "      <td>1</td>\n",
       "      <td>3</td>\n",
       "      <td>4</td>\n",
       "      <td>3</td>\n",
       "      <td>7</td>\n",
       "      <td>1</td>\n",
       "      <td>2</td>\n",
       "    </tr>\n",
       "    <tr>\n",
       "      <th>4</th>\n",
       "      <td>1017023</td>\n",
       "      <td>4</td>\n",
       "      <td>1</td>\n",
       "      <td>1</td>\n",
       "      <td>3</td>\n",
       "      <td>2</td>\n",
       "      <td>1</td>\n",
       "      <td>3</td>\n",
       "      <td>1</td>\n",
       "      <td>1</td>\n",
       "      <td>2</td>\n",
       "    </tr>\n",
       "  </tbody>\n",
       "</table>\n",
       "</div>"
      ],
      "text/plain": [
       "        id  clump_thickness  unif_cell_size  unif_cell_shape  marg_adhesion  \\\n",
       "0  1000025                5               1                1              1   \n",
       "1  1002945                5               4                4              5   \n",
       "2  1015425                3               1                1              1   \n",
       "3  1016277                6               8                8              1   \n",
       "4  1017023                4               1                1              3   \n",
       "\n",
       "   single_epith_cell_size bare_nuclei  bland_chrom  norm_nucleoli  mitoses  \\\n",
       "0                       2           1            3              1        1   \n",
       "1                       7          10            3              2        1   \n",
       "2                       2           2            3              1        1   \n",
       "3                       3           4            3              7        1   \n",
       "4                       2           1            3              1        1   \n",
       "\n",
       "   class  \n",
       "0      2  \n",
       "1      2  \n",
       "2      2  \n",
       "3      2  \n",
       "4      2  "
      ]
     },
     "execution_count": 4,
     "metadata": {},
     "output_type": "execute_result"
    }
   ],
   "source": [
    "## we cannot work with the null data so we replace the data \n",
    "## with the very large negative data\n",
    "df.replace('?',-99999,inplace=True)\n",
    "df.head()"
   ]
  },
  {
   "cell_type": "code",
   "execution_count": 5,
   "metadata": {},
   "outputs": [
    {
     "data": {
      "text/html": [
       "<div>\n",
       "<style scoped>\n",
       "    .dataframe tbody tr th:only-of-type {\n",
       "        vertical-align: middle;\n",
       "    }\n",
       "\n",
       "    .dataframe tbody tr th {\n",
       "        vertical-align: top;\n",
       "    }\n",
       "\n",
       "    .dataframe thead th {\n",
       "        text-align: right;\n",
       "    }\n",
       "</style>\n",
       "<table border=\"1\" class=\"dataframe\">\n",
       "  <thead>\n",
       "    <tr style=\"text-align: right;\">\n",
       "      <th></th>\n",
       "      <th>clump_thickness</th>\n",
       "      <th>unif_cell_size</th>\n",
       "      <th>unif_cell_shape</th>\n",
       "      <th>marg_adhesion</th>\n",
       "      <th>single_epith_cell_size</th>\n",
       "      <th>bare_nuclei</th>\n",
       "      <th>bland_chrom</th>\n",
       "      <th>norm_nucleoli</th>\n",
       "      <th>mitoses</th>\n",
       "      <th>class</th>\n",
       "    </tr>\n",
       "  </thead>\n",
       "  <tbody>\n",
       "    <tr>\n",
       "      <th>0</th>\n",
       "      <td>5</td>\n",
       "      <td>1</td>\n",
       "      <td>1</td>\n",
       "      <td>1</td>\n",
       "      <td>2</td>\n",
       "      <td>1</td>\n",
       "      <td>3</td>\n",
       "      <td>1</td>\n",
       "      <td>1</td>\n",
       "      <td>2</td>\n",
       "    </tr>\n",
       "    <tr>\n",
       "      <th>1</th>\n",
       "      <td>5</td>\n",
       "      <td>4</td>\n",
       "      <td>4</td>\n",
       "      <td>5</td>\n",
       "      <td>7</td>\n",
       "      <td>10</td>\n",
       "      <td>3</td>\n",
       "      <td>2</td>\n",
       "      <td>1</td>\n",
       "      <td>2</td>\n",
       "    </tr>\n",
       "    <tr>\n",
       "      <th>2</th>\n",
       "      <td>3</td>\n",
       "      <td>1</td>\n",
       "      <td>1</td>\n",
       "      <td>1</td>\n",
       "      <td>2</td>\n",
       "      <td>2</td>\n",
       "      <td>3</td>\n",
       "      <td>1</td>\n",
       "      <td>1</td>\n",
       "      <td>2</td>\n",
       "    </tr>\n",
       "    <tr>\n",
       "      <th>3</th>\n",
       "      <td>6</td>\n",
       "      <td>8</td>\n",
       "      <td>8</td>\n",
       "      <td>1</td>\n",
       "      <td>3</td>\n",
       "      <td>4</td>\n",
       "      <td>3</td>\n",
       "      <td>7</td>\n",
       "      <td>1</td>\n",
       "      <td>2</td>\n",
       "    </tr>\n",
       "    <tr>\n",
       "      <th>4</th>\n",
       "      <td>4</td>\n",
       "      <td>1</td>\n",
       "      <td>1</td>\n",
       "      <td>3</td>\n",
       "      <td>2</td>\n",
       "      <td>1</td>\n",
       "      <td>3</td>\n",
       "      <td>1</td>\n",
       "      <td>1</td>\n",
       "      <td>2</td>\n",
       "    </tr>\n",
       "  </tbody>\n",
       "</table>\n",
       "</div>"
      ],
      "text/plain": [
       "   clump_thickness  unif_cell_size  unif_cell_shape  marg_adhesion  \\\n",
       "0                5               1                1              1   \n",
       "1                5               4                4              5   \n",
       "2                3               1                1              1   \n",
       "3                6               8                8              1   \n",
       "4                4               1                1              3   \n",
       "\n",
       "   single_epith_cell_size bare_nuclei  bland_chrom  norm_nucleoli  mitoses  \\\n",
       "0                       2           1            3              1        1   \n",
       "1                       7          10            3              2        1   \n",
       "2                       2           2            3              1        1   \n",
       "3                       3           4            3              7        1   \n",
       "4                       2           1            3              1        1   \n",
       "\n",
       "   class  \n",
       "0      2  \n",
       "1      2  \n",
       "2      2  \n",
       "3      2  \n",
       "4      2  "
      ]
     },
     "execution_count": 5,
     "metadata": {},
     "output_type": "execute_result"
    }
   ],
   "source": [
    "##now if you keep the data in the datasets which has no \n",
    "## connection with the prediction it will reduce the accuracy\n",
    "## and creae a serious problem so we need to remove it first\n",
    "## in this case the id of the patient is the useless column\n",
    "## because there is no relation between cancer and the patient id\n",
    "##so drp the id and create a new dataframe\n",
    "df.drop(['id'],1,inplace=True)\n",
    "df.head()\n"
   ]
  },
  {
   "cell_type": "code",
   "execution_count": 6,
   "metadata": {},
   "outputs": [],
   "source": [
    "## removing the output so that we can calculate the other\n",
    "##by converting it to an array\n",
    "X=np.array(df.drop(['class'],1))\n",
    "## this is our feture data\n",
    "y = np.array(df['class'])\n",
    "#this is the feture the output"
   ]
  },
  {
   "cell_type": "markdown",
   "metadata": {},
   "source": [
    "#### to use multiple algorithm we need a testing data sets and training data sets so that we can ind the accuracy of and test the best algorithm first we have to split it up "
   ]
  },
  {
   "cell_type": "code",
   "execution_count": 7,
   "metadata": {},
   "outputs": [],
   "source": [
    "X_train,X_test,y_train,y_test = cross_validation.train_test_split(X,y,test_size=0.2)\n",
    "\n",
    "\n",
    "## test_size=.2 means we take the 20% data to test .more data needs more time \n",
    "## its enough "
   ]
  },
  {
   "cell_type": "code",
   "execution_count": 8,
   "metadata": {},
   "outputs": [],
   "source": [
    "## initiate all the algorithm package class in object"
   ]
  },
  {
   "cell_type": "code",
   "execution_count": 9,
   "metadata": {},
   "outputs": [],
   "source": [
    "# before that we need to create a list in where we store accuracy\n"
   ]
  },
  {
   "cell_type": "markdown",
   "metadata": {},
   "source": [
    "## KNN  Classifier Starts here"
   ]
  },
  {
   "cell_type": "code",
   "execution_count": null,
   "metadata": {},
   "outputs": [],
   "source": []
  },
  {
   "cell_type": "code",
   "execution_count": 10,
   "metadata": {},
   "outputs": [],
   "source": [
    "knn_clf = neighbors.KNeighborsClassifier()\n",
    "\n",
    "#training the data with knn algorithm\n",
    "knn_clf.fit(X_train,y_train)\n",
    "\n",
    "## find the knn_accuracy based on the test result\n",
    "knn_accuracy=knn_clf.score(X_test,y_test)\n"
   ]
  },
  {
   "cell_type": "code",
   "execution_count": 11,
   "metadata": {},
   "outputs": [
    {
     "name": "stdout",
     "output_type": "stream",
     "text": [
      "0.9857142857142858\n"
     ]
    }
   ],
   "source": [
    "print knn_accuracy"
   ]
  },
  {
   "cell_type": "markdown",
   "metadata": {},
   "source": [
    "## Support Vector Machine Starts here"
   ]
  },
  {
   "cell_type": "code",
   "execution_count": 12,
   "metadata": {},
   "outputs": [],
   "source": [
    "svm_clf = svm.SVC()\n",
    "\n",
    "#training the data with knn algorithm\n",
    "svm_clf.fit(X_train,y_train)\n",
    "\n",
    "## find the knn_accuracy based on the test result\n",
    "svm_accuracy=svm_clf.score(X_test,y_test)"
   ]
  },
  {
   "cell_type": "code",
   "execution_count": 13,
   "metadata": {},
   "outputs": [
    {
     "data": {
      "text/plain": [
       "0.9714285714285714"
      ]
     },
     "execution_count": 13,
     "metadata": {},
     "output_type": "execute_result"
    }
   ],
   "source": [
    "svm_accuracy"
   ]
  },
  {
   "cell_type": "markdown",
   "metadata": {},
   "source": [
    "## GradientBoostingClassifier Starts Here"
   ]
  },
  {
   "cell_type": "code",
   "execution_count": 14,
   "metadata": {},
   "outputs": [],
   "source": [
    "gb_clf = GradientBoostingClassifier()\n",
    "#training the data with knn algorithm\n",
    "gb_clf.fit(X_train,y_train)\n",
    "\n",
    "## find the knn_accuracy based on the test result\n",
    "gb_accuracy=gb_clf.score(X_test,y_test)"
   ]
  },
  {
   "cell_type": "code",
   "execution_count": 15,
   "metadata": {},
   "outputs": [
    {
     "data": {
      "text/plain": [
       "0.9714285714285714"
      ]
     },
     "execution_count": 15,
     "metadata": {},
     "output_type": "execute_result"
    }
   ],
   "source": [
    "gb_accuracy"
   ]
  },
  {
   "cell_type": "markdown",
   "metadata": {},
   "source": [
    "## RandomForestClassifier Starts Here"
   ]
  },
  {
   "cell_type": "code",
   "execution_count": 16,
   "metadata": {},
   "outputs": [],
   "source": [
    "rfc_clf = RandomForestClassifier()\n",
    "#training the data with knn algorithm\n",
    "rfc_clf.fit(X_train,y_train)\n",
    "\n",
    "## find the knn_accuracy based on the test result\n",
    "rfc_accuracy=gb_clf.score(X_test,y_test)"
   ]
  },
  {
   "cell_type": "code",
   "execution_count": 17,
   "metadata": {},
   "outputs": [
    {
     "data": {
      "text/plain": [
       "0.9714285714285714"
      ]
     },
     "execution_count": 17,
     "metadata": {},
     "output_type": "execute_result"
    }
   ],
   "source": [
    "rfc_accuracy"
   ]
  },
  {
   "cell_type": "code",
   "execution_count": 18,
   "metadata": {},
   "outputs": [],
   "source": [
    "## assing the value in a one dimentional list\n",
    "accuracy_list = [knn_accuracy,svm_accuracy,gb_accuracy,rfc_accuracy]\n"
   ]
  },
  {
   "cell_type": "code",
   "execution_count": 19,
   "metadata": {},
   "outputs": [],
   "source": [
    "## now we create a desicion function for finding the best\n",
    "def decision(knn_accuracy,svm_accuracy,gb_accuracy,rfc_accuracy):\n",
    "    data=[knn_accuracy,svm_accuracy,gb_accuracy,rfc_accuracy]\n",
    "    result=max(data)\n",
    "    if result == knn_accuracy:\n",
    "        method = \"KNN Classifier\"\n",
    "        working_clf = knn_clf\n",
    "        \n",
    "    elif result==svm_accuracy:\n",
    "        method='SVC Classifier'\n",
    "        working_clf = svm_clf\n",
    "    elif result==gb_accuracy:\n",
    "        method='GB Classifier'\n",
    "        working_clf = gb_clf\n",
    "\n",
    "    else:\n",
    "        method='RFC Classifier'\n",
    "        working_clf = rfc_clf\n",
    "    return method,working_clf\n",
    "    "
   ]
  },
  {
   "cell_type": "code",
   "execution_count": 20,
   "metadata": {},
   "outputs": [],
   "source": [
    "method = decision(knn_accuracy,svm_accuracy,gb_accuracy,rfc_accuracy)"
   ]
  },
  {
   "cell_type": "code",
   "execution_count": 21,
   "metadata": {},
   "outputs": [
    {
     "name": "stdout",
     "output_type": "stream",
     "text": [
      "best algorithm is KNN Classifier\n",
      "accuracy is 0.9857142857142858\n"
     ]
    }
   ],
   "source": [
    "print \"best algorithm is \"+str(method[0])+\"\\naccuracy is \"+str(knn_accuracy)"
   ]
  },
  {
   "cell_type": "code",
   "execution_count": 26,
   "metadata": {},
   "outputs": [
    {
     "name": "stdout",
     "output_type": "stream",
     "text": [
      "KNeighborsClassifier(algorithm='auto', leaf_size=30, metric='minkowski',\n",
      "           metric_params=None, n_jobs=1, n_neighbors=5, p=2,\n",
      "           weights='uniform')\n"
     ]
    }
   ],
   "source": [
    "best_clf = method[1]\n",
    "print best_clf"
   ]
  },
  {
   "cell_type": "markdown",
   "metadata": {},
   "source": [
    "# we got our best classifier lets test a few data"
   ]
  },
  {
   "cell_type": "markdown",
   "metadata": {},
   "source": [
    "## lets test the first 6 data of the datasheet"
   ]
  },
  {
   "cell_type": "code",
   "execution_count": 27,
   "metadata": {},
   "outputs": [],
   "source": [
    "def string_transform(data):\n",
    "    if data==2:\n",
    "        value= \"benign\"\n",
    "    if data==4:\n",
    "        value=\"malignant\"\n",
    "    return value"
   ]
  },
  {
   "cell_type": "code",
   "execution_count": 63,
   "metadata": {},
   "outputs": [
    {
     "name": "stdout",
     "output_type": "stream",
     "text": [
      "2 patient in stage benign stage\n",
      "3 patient in stage malignant stage\n",
      "4 patient in stage benign stage\n",
      "5 patient in stage malignant stage\n",
      "6 patient in stage benign stage\n",
      "7 patient in stage malignant stage\n",
      "8 patient in stage benign stage\n",
      "9 patient in stage benign stage\n",
      "10 patient in stage benign stage\n",
      "11 patient in stage benign stage\n",
      "12 patient in stage benign stage\n",
      "13 patient in stage benign stage\n",
      "14 patient in stage malignant stage\n",
      "15 patient in stage benign stage\n",
      "16 patient in stage malignant stage\n",
      "17 patient in stage benign stage\n",
      "18 patient in stage benign stage\n",
      "19 patient in stage benign stage\n",
      "20 patient in stage malignant stage\n",
      "21 patient in stage benign stage\n",
      "22 patient in stage malignant stage\n",
      "23 patient in stage malignant stage\n",
      "24 patient in stage benign stage\n",
      "25 patient in stage benign stage\n",
      "26 patient in stage benign stage\n",
      "27 patient in stage malignant stage\n",
      "28 patient in stage benign stage\n",
      "29 patient in stage benign stage\n",
      "30 patient in stage benign stage\n",
      "31 patient in stage benign stage\n",
      "32 patient in stage benign stage\n",
      "33 patient in stage benign stage\n",
      "34 patient in stage malignant stage\n",
      "35 patient in stage benign stage\n",
      "36 patient in stage benign stage\n",
      "37 patient in stage benign stage\n",
      "38 patient in stage malignant stage\n",
      "39 patient in stage benign stage\n",
      "40 patient in stage malignant stage\n",
      "41 patient in stage malignant stage\n",
      "42 patient in stage benign stage\n",
      "43 patient in stage malignant stage\n",
      "44 patient in stage malignant stage\n",
      "45 patient in stage malignant stage\n",
      "46 patient in stage malignant stage\n",
      "47 patient in stage benign stage\n",
      "48 patient in stage malignant stage\n",
      "49 patient in stage benign stage\n",
      "50 patient in stage benign stage\n",
      "51 patient in stage malignant stage\n"
     ]
    }
   ],
   "source": [
    "\n",
    "data1=[[5,1,1,1,2,1,3,1,1],\n",
    "[5,4,4,5,7,10,3,2,1],\n",
    "[3,1,1,1,2,2,3,1,1],\n",
    "[6,8,8,1,3,4,3,7,1],\n",
    "[4,1,1,3,2,1,3,1,1],\n",
    "[8,10,10,8,7,10,9,7,1],\n",
    "[1,1,1,1,2,10,3,1,1],\n",
    "[2,1,2,1,2,1,3,1,1],\n",
    "[2,1,1,1,2,1,1,1,5],\n",
    "[4,2,1,1,2,1,2,1,1],\n",
    "[1,1,1,1,1,1,3,1,1],\n",
    "[2,1,1,1,2,1,2,1,1],\n",
    "[5,3,3,3,2,3,4,4,1],\n",
    "[1,1,1,1,2,3,3,1,1],\n",
    "[8,7,5,10,7,9,5,5,4],\n",
    "[7,4,6,4,6,1,4,3,1],\n",
    "[4,1,1,1,2,1,2,1,1],\n",
    "[4,1,1,1,2,1,3,1,1],\n",
    "[10,7,7,6,4,10,4,1,2],\n",
    "[6,1,1,1,2,1,3,1,1],\n",
    "[7,3,2,10,5,10,5,4,4],\n",
    "[10,5,5,3,6,7,7,10,1],\n",
    "[3,1,1,1,2,1,2,1,1],\n",
    "[8,4,5,1,2,-99999,7,3,1],\n",
    "[1,1,1,1,2,1,3,1,1],\n",
    "[5,2,3,4,2,7,3,6,1],\n",
    "[3,2,1,1,1,1,2,1,1],\n",
    "[5,1,1,1,2,1,2,1,1],\n",
    "[2,1,1,1,2,1,2,1,1],\n",
    "[1,1,3,1,2,1,1,1,1],\n",
    "[3,1,1,1,1,1,2,1,1],\n",
    "[2,1,1,1,2,1,3,1,1],\n",
    "[10,7,7,3,8,5,7,4,3],\n",
    "[2,1,1,2,2,1,3,1,1],\n",
    "[3,1,2,1,2,1,2,1,1],\n",
    "[2,1,1,1,2,1,2,1,1],\n",
    "[10,10,10,8,6,1,8,9,1],\n",
    "[6,2,1,1,1,1,7,1,1],\n",
    "[5,4,4,9,2,10,5,6,1],\n",
    "[2,5,3,3,6,7,7,5,1],\n",
    "[6,6,6,9,6,-99999,7,8,1],\n",
    "[10,4,3,1,3,3,6,5,2],\n",
    "[6,10,10,2,8,10,7,3,3],\n",
    "[5,6,5,6,10,1,3,1,1],\n",
    "[10,10,10,4,8,1,8,10,1],\n",
    "[1,1,1,1,2,1,2,1,2],\n",
    "[3,7,7,4,4,9,4,8,1],\n",
    "[1,1,1,1,2,1,2,1,1],\n",
    "[4,1,1,3,2,1,3,1,1],\n",
    "[7,8,7,2,4,8,3,8,2]]\n",
    "data=np.array(data1)  \n",
    "data = data.reshape(len(data1),-1)\n",
    "predict = best_clf.predict(data)\n",
    "for item in range(len(data1)):\n",
    "    print  str(item+2)+\" patient in stage \"+string_transform(predict[item]) +\" stage\"\n",
    "\n",
    "    "
   ]
  },
  {
   "cell_type": "markdown",
   "metadata": {},
   "source": [
    "# more than 97% matched exact result showed in the datasets\n",
    "# thats a significant improvement\n"
   ]
  },
  {
   "cell_type": "code",
   "execution_count": null,
   "metadata": {},
   "outputs": [],
   "source": []
  }
 ],
 "metadata": {
  "kernelspec": {
   "display_name": "Python 2",
   "language": "python",
   "name": "python2"
  },
  "language_info": {
   "codemirror_mode": {
    "name": "ipython",
    "version": 2
   },
   "file_extension": ".py",
   "mimetype": "text/x-python",
   "name": "python",
   "nbconvert_exporter": "python",
   "pygments_lexer": "ipython2",
   "version": "2.7.15"
  }
 },
 "nbformat": 4,
 "nbformat_minor": 2
}
